{
 "cells": [
  {
   "cell_type": "code",
   "execution_count": 1,
   "metadata": {},
   "outputs": [],
   "source": [
    "import pandas as pd\n",
    "import numpy as np"
   ]
  },
  {
   "cell_type": "code",
   "execution_count": 2,
   "metadata": {},
   "outputs": [],
   "source": [
    "dt=pd.read_csv(\"bcancer.csv\")\n",
    "dt.drop('Unnamed: 0',axis=1,inplace=True)\n",
    "dt=dt.replace('?','15')\n",
    "dt['g']=dt['g'].astype(dtype='i')\n",
    "x=dt.drop(['a','class'],axis=1)\n",
    "y=np.where(dt['class']==2,1,0)\n",
    "from sklearn.model_selection import train_test_split\n",
    "x_tr,x_ts,y_tr,y_ts=train_test_split(x,y,test_size=0.2)"
   ]
  },
  {
   "cell_type": "code",
   "execution_count": 3,
   "metadata": {},
   "outputs": [],
   "source": [
    "def sig(z):\n",
    "    return 1/(1+np.exp(-z))"
   ]
  },
  {
   "cell_type": "code",
   "execution_count": 4,
   "metadata": {},
   "outputs": [],
   "source": [
    "th=np.zeros((1,x_tr.shape[1]))"
   ]
  },
  {
   "cell_type": "code",
   "execution_count": 5,
   "metadata": {},
   "outputs": [
    {
     "data": {
      "text/plain": [
       "0.6931471805599453"
      ]
     },
     "execution_count": 5,
     "metadata": {},
     "output_type": "execute_result"
    }
   ],
   "source": [
    "import numpy.matlib as ml\n",
    "def cost(x,y,t):\n",
    "    x=ml.matrix(x)\n",
    "    t=ml.matrix(t)\n",
    "    s=sig(t*x.T)\n",
    "    fi=y_tr*np.array(np.log(s))\n",
    "    se=(1-y_tr)*np.array(np.log(1-s))\n",
    "    return -1*(fi+se).mean()\n",
    "cost(x_tr,y_tr,th)"
   ]
  },
  {
   "cell_type": "code",
   "execution_count": 6,
   "metadata": {},
   "outputs": [
    {
     "data": {
      "text/plain": [
       "array([[-0.00168459, -0.00645161, -0.0059319 , -0.00424731, -0.00172043,\n",
       "        -0.00673835, -0.00287634, -0.00531362, -0.0005914 ]])"
      ]
     },
     "execution_count": 6,
     "metadata": {},
     "output_type": "execute_result"
    }
   ],
   "source": [
    "def grad(x,y,th):\n",
    "    x=ml.matrix(x)\n",
    "    t=ml.matrix(th)\n",
    "    s=sig(t*x.T)\n",
    "    err=(s-y)\n",
    "    nerr=(np.array(err).T*np.array(x)).mean(axis=0)\n",
    "    th=th-0.01*nerr\n",
    "    return th\n",
    "grad(x_tr,y_tr,th)"
   ]
  },
  {
   "cell_type": "code",
   "execution_count": 7,
   "metadata": {},
   "outputs": [
    {
     "name": "stdout",
     "output_type": "stream",
     "text": [
      "0.6774588012444164\n",
      "0.5302259446287672\n",
      "0.4935350870287013\n",
      "0.4767543888748069\n",
      "0.46728285300337075\n",
      "0.46133488535349054\n",
      "0.4573479412361739\n",
      "0.4545528627119455\n",
      "0.4525271917462294\n",
      "0.45102087296925125\n"
     ]
    }
   ],
   "source": [
    "for i in range(1000):\n",
    "    th=grad(x_tr,y_tr,th)\n",
    "    if i%100==0:\n",
    "        print(cost(x_tr,y_tr,th))"
   ]
  },
  {
   "cell_type": "code",
   "execution_count": 8,
   "metadata": {},
   "outputs": [],
   "source": [
    "def predict(x,th):\n",
    "    x=ml.matrix(x)\n",
    "    t=ml.matrix(th)\n",
    "    s=sig(t*x.T)\n",
    "    if s>=0.5:\n",
    "        return 1\n",
    "    else:\n",
    "        return 0"
   ]
  },
  {
   "cell_type": "code",
   "execution_count": 9,
   "metadata": {},
   "outputs": [
    {
     "data": {
      "text/plain": [
       "0.8357142857142857"
      ]
     },
     "execution_count": 9,
     "metadata": {},
     "output_type": "execute_result"
    }
   ],
   "source": [
    "c=0\n",
    "for i in range(x_ts.shape[0]):\n",
    "    if predict(x_ts.iloc[i],th)==y_ts[i]:\n",
    "        c+=1\n",
    "c/len(x_ts)"
   ]
  },
  {
   "cell_type": "code",
   "execution_count": null,
   "metadata": {},
   "outputs": [],
   "source": []
  }
 ],
 "metadata": {
  "kernelspec": {
   "display_name": "Python 3",
   "language": "python",
   "name": "python3"
  },
  "language_info": {
   "codemirror_mode": {
    "name": "ipython",
    "version": 3
   },
   "file_extension": ".py",
   "mimetype": "text/x-python",
   "name": "python",
   "nbconvert_exporter": "python",
   "pygments_lexer": "ipython3",
   "version": "3.7.6"
  }
 },
 "nbformat": 4,
 "nbformat_minor": 2
}
